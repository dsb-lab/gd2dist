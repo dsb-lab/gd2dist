{
 "cells": [
  {
   "cell_type": "code",
   "execution_count": 1,
   "metadata": {},
   "outputs": [],
   "source": [
    "import numpy as np\n",
    "import scipy.stats as st\n",
    "import gd2dist as gd\n",
    "import matplotlib.pyplot as plt"
   ]
  },
  {
   "cell_type": "code",
   "execution_count": null,
   "metadata": {},
   "outputs": [],
   "source": [
    "data = st.norm.rvs(0,1,size=5000)\n",
    "dataconv = st.norm.rvs(0,np.sqrt(2),size=5000)\n",
    "\n",
    "model = gd.nestedsampler(2,2)\n",
    "model.fit(data,dataconv,nlive=1000)\n",
    "\n",
    "data2 = st.norm.rvs(0,1,size=5000)\n",
    "dataconv2 = st.norm.rvs(0,np.sqrt(2),size=5000)\n",
    "\n",
    "model2 = gd.nestedsampler(2,2)\n",
    "model2.fit(data2,dataconv2,nlive=1000)"
   ]
  },
  {
   "cell_type": "code",
   "execution_count": 53,
   "metadata": {},
   "outputs": [
    {
     "data": {
      "image/png": "[encoded data removed]",
      "text/plain": [
       "<Figure size 432x288 with 1 Axes>"
      ]
     },
     "metadata": {
      "needs_background": "light"
     },
     "output_type": "display_data"
    }
   ],
   "source": [
    "model.prune(3)\n",
    "model2.prune(3)\n",
    "\n",
    "x = np.arange(-4,4,0.01)\n",
    "y = model.score_deconvolution(x,size=4000)\n",
    "y2 = model2.score_deconvolution(x,size=4000)\n",
    "\n",
    "plt.plot(x,y[0])\n",
    "plt.fill_between(x,y[1],y2=y[2],alpha=0.5)\n",
    "plt.plot(x,y2[0])\n",
    "plt.fill_between(x,y2[1],y2=y2[2],alpha=0.5)\n",
    "\n",
    "plt.hist(data2,density=True,bins=50)\n",
    "\n",
    "plt.show()"
   ]
  },
  {
   "cell_type": "code",
   "execution_count": null,
   "metadata": {},
   "outputs": [
    {
     "name": "stderr",
     "output_type": "stream",
     "text": [
      "15313it [01:21, 159.29it/s, bound: 68 | nc: 26 | ncall: 356725 | eff(%):  4.293 | loglstar:   -inf < -3226.763 <    inf | logz: -3245.758 +/-  0.190 | dlogz: 109.547 >  1.009]"
     ]
    }
   ],
   "source": [
    "data3 = st.norm.rvs(0,1,size=1000)\n",
    "dataconv3 = st.norm.rvs(0,np.sqrt(2),size=1000)\n",
    "\n",
    "model3 = gd.nestedsampler(2,2)\n",
    "model3.fit(data3,dataconv3,nlive=1000)\n",
    "\n",
    "data4 = st.norm.rvs(0,1,size=100)\n",
    "dataconv4 = st.norm.rvs(0,np.sqrt(2),size=100)\n",
    "\n",
    "model4 = gd.nestedsampler(2,2)\n",
    "model4.fit(data4,dataconv4,nlive=1000)"
   ]
  },
  {
   "cell_type": "code",
   "execution_count": 15,
   "metadata": {},
   "outputs": [
    {
     "ename": "NameError",
     "evalue": "name 'model4' is not defined",
     "output_type": "error",
     "traceback": [
      "\u001b[0;31m---------------------------------------------------------------------------\u001b[0m",
      "\u001b[0;31mNameError\u001b[0m                                 Traceback (most recent call last)",
      "\u001b[0;32m<ipython-input-15-b20265be61ea>\u001b[0m in \u001b[0;36m<module>\u001b[0;34m\u001b[0m\n\u001b[1;32m      1\u001b[0m \u001b[0mmodel3\u001b[0m\u001b[0;34m.\u001b[0m\u001b[0mprune\u001b[0m\u001b[0;34m(\u001b[0m\u001b[0;36m3\u001b[0m\u001b[0;34m)\u001b[0m\u001b[0;34m\u001b[0m\u001b[0;34m\u001b[0m\u001b[0m\n\u001b[0;32m----> 2\u001b[0;31m \u001b[0mmodel4\u001b[0m\u001b[0;34m.\u001b[0m\u001b[0mprune\u001b[0m\u001b[0;34m(\u001b[0m\u001b[0;36m3\u001b[0m\u001b[0;34m)\u001b[0m\u001b[0;34m\u001b[0m\u001b[0;34m\u001b[0m\u001b[0m\n\u001b[0m\u001b[1;32m      3\u001b[0m \u001b[0;34m\u001b[0m\u001b[0m\n\u001b[1;32m      4\u001b[0m \u001b[0mx\u001b[0m \u001b[0;34m=\u001b[0m \u001b[0mnp\u001b[0m\u001b[0;34m.\u001b[0m\u001b[0marange\u001b[0m\u001b[0;34m(\u001b[0m\u001b[0;34m-\u001b[0m\u001b[0;36m4\u001b[0m\u001b[0;34m,\u001b[0m\u001b[0;36m4\u001b[0m\u001b[0;34m,\u001b[0m\u001b[0;36m0.01\u001b[0m\u001b[0;34m)\u001b[0m\u001b[0;34m\u001b[0m\u001b[0;34m\u001b[0m\u001b[0m\n\u001b[1;32m      5\u001b[0m \u001b[0my\u001b[0m \u001b[0;34m=\u001b[0m \u001b[0mmodel3\u001b[0m\u001b[0;34m.\u001b[0m\u001b[0mscore_deconvolution\u001b[0m\u001b[0;34m(\u001b[0m\u001b[0mx\u001b[0m\u001b[0;34m,\u001b[0m\u001b[0msize\u001b[0m\u001b[0;34m=\u001b[0m\u001b[0;36m4000\u001b[0m\u001b[0;34m)\u001b[0m\u001b[0;34m\u001b[0m\u001b[0;34m\u001b[0m\u001b[0m\n",
      "\u001b[0;31mNameError\u001b[0m: name 'model4' is not defined"
     ]
    }
   ],
   "source": [
    "model3.prune(3)\n",
    "model4.prune(3)\n",
    "\n",
    "x = np.arange(-4,4,0.01)\n",
    "y = model3.score_deconvolution(x,size=4000)\n",
    "y2 = model4.score_deconvolution(x,size=4000)\n",
    "\n",
    "plt.plot(x,y[0])\n",
    "plt.fill_between(x,y[1],y2=y[2],alpha=0.5)\n",
    "plt.plot(x,y2[0])\n",
    "plt.fill_between(x,y2[1],y2=y2[2],alpha=0.5)\n",
    "\n",
    "plt.hist(data3,density=True,bins=50)\n",
    "\n",
    "plt.show()"
   ]
  },
  {
   "cell_type": "code",
   "execution_count": null,
   "metadata": {},
   "outputs": [],
   "source": [
    "x = np.arange(-4,4,0.1)\n",
    "\n",
    "v = []\n",
    "for i in range(100):\n",
    "    v.append(model.score_deconvolution(x)[0])"
   ]
  }
 ],
 "metadata": {
  "kernelspec": {
   "display_name": "Python 3",
   "language": "python",
   "name": "python3"
  },
  "language_info": {
   "codemirror_mode": {
    "name": "ipython",
    "version": 3
   },
   "file_extension": ".py",
   "mimetype": "text/x-python",
   "name": "python",
   "nbconvert_exporter": "python",
   "pygments_lexer": "ipython3",
   "version": "3.8.5"
  }
 },
 "nbformat": 4,
 "nbformat_minor": 4
}
